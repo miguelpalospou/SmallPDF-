{
 "cells": [
  {
   "cell_type": "code",
   "execution_count": 1,
   "metadata": {},
   "outputs": [],
   "source": [
    "import os\n",
    "from dotenv import load_dotenv\n",
    "\n",
    "load_dotenv(\"../.env\")\n",
    "\n",
    "OPENAI_API_KEY= os.getenv(\"OPENAI_API_KEY\")\n",
    "MODEL= \"gpt-4o-mini\"\n",
    "#MODEL= \"mistral:7b\""
   ]
  },
  {
   "cell_type": "code",
   "execution_count": 40,
   "metadata": {},
   "outputs": [
    {
     "data": {
      "text/plain": [
       "AIMessage(content='Why did the scarecrow win an award?\\n\\nBecause he was outstanding in his field!', additional_kwargs={'refusal': None}, response_metadata={'token_usage': {'completion_tokens': 17, 'prompt_tokens': 11, 'total_tokens': 28, 'completion_tokens_details': {'audio_tokens': None, 'reasoning_tokens': 0}, 'prompt_tokens_details': {'audio_tokens': None, 'cached_tokens': 0}}, 'model_name': 'gpt-4o-mini-2024-07-18', 'system_fingerprint': 'fp_482c22a7bc', 'finish_reason': 'stop', 'logprobs': None}, id='run-c96b8018-a291-4ef6-82d9-42b9e8bd65c1-0', usage_metadata={'input_tokens': 11, 'output_tokens': 17, 'total_tokens': 28, 'input_token_details': {'cache_read': 0}, 'output_token_details': {'reasoning': 0}})"
      ]
     },
     "execution_count": 40,
     "metadata": {},
     "output_type": "execute_result"
    }
   ],
   "source": [
    "from langchain_openai.chat_models import ChatOpenAI\n",
    "from langchain_openai.embeddings import OpenAIEmbeddings\n",
    "from langchain_community.llms import Ollama\n",
    "from langchain_community.embeddings import OllamaEmbeddings\n",
    "\n",
    "if MODEL.startswith(\"gpt\"):\n",
    "    model= ChatOpenAI(api_key=OPENAI_API_KEY, model=MODEL)\n",
    "    embeddings= OpenAIEmbeddings()\n",
    "else:\n",
    "    model= Ollama(model=MODEL)\n",
    "    embeddings = OllamaEmbeddings()\n",
    "\n",
    "\n",
    "model.invoke(\"tell me a joke\")   "
   ]
  },
  {
   "cell_type": "code",
   "execution_count": 41,
   "metadata": {},
   "outputs": [
    {
     "data": {
      "text/plain": [
       "'Why did the scarecrow win an award?\\n\\nBecause he was outstanding in his field!'"
      ]
     },
     "execution_count": 41,
     "metadata": {},
     "output_type": "execute_result"
    }
   ],
   "source": [
    "from langchain_core.output_parsers import StrOutputParser\n",
    "parser=StrOutputParser()\n",
    "chain= model | parser\n",
    "chain.invoke(\"Tell me a joke\")"
   ]
  },
  {
   "cell_type": "code",
   "execution_count": 42,
   "metadata": {},
   "outputs": [
    {
     "data": {
      "text/plain": [
       "[Document(metadata={'source': 'domestico.pdf', 'page': 0}, page_content='(https://domesticolabora.com)\\n\\ue816\\n15 años sirviendo\\nEmpleadas de hogar\\nSeleccionamos personal: bien formado, amable y eficiente\\nLlámanos: 647 595 983(tel:+34647595983) \\uf879\\nEMPLEADAS DE HOGAR\\n\\uf236\\nEmpleadas de hogar internas\\nUno de los perfiles demandados por las familias es el de empleadas de hogar internas, es decir, aquellas empleadas que residen en el\\ndomicilio del cliente durante los periodos de realización del trabajo. Las empleadas de hogar internas conviven con la familia, y\\nrealizan las tareas de casa: limpieza de pisos o casas, plancha, cocina, cuidado de niños y personas mayores. En Domestico Labora,\\nsabemos lo que supone el riesgo de dar la confianza a una trabajadora interna y por ello, formamos profesionalmente y seguimos de\\nforma continua la evolución profesional y personal del servicio doméstico en su hogar.\\n\\uf64a\\nEmpleadas de hogar externas\\nCada día más, necesitamos ayuda para las tareas domésticas. Necesitamos cubrir aquello a lo que no llegamos. Eso, hoy es posible\\ngracias a las empleada de hogar externas.\\nEn ocasiones, la familia necesita un apoyo externo de algunas horas diarias o semanales. En Domestico Labora seleccionamos a la\\nempleada de hogar externa que necesitas con la garantía de ser profesionales con más de 15 años de experiencia en el sector.\\xa0\\nContamos con una amplia base de datos de empleadas del hogar que previamente han pasado un exhaustivo proceso de selección.10/20/24, 12:33 PM Empleadas de hogar – Domestico Labora | Empleadas hogar – Servicio Doméstico – Cuidado Ancianos\\nhttps://domesticolabora.com/servicios/empleadas-de-hogar/ 1/9'),\n",
       " Document(metadata={'source': 'domestico.pdf', 'page': 1}, page_content='\\uf017\\nServicios de asistencia por horas semanales. Equipos de limpieza y\\nacondicionamiento\\nDisponemos de plantilla propia de profesionales para los casos en el que cliente prefiere no contratar personal doméstico y necesita\\núnicamente unas pocas horas semanales.\\nOfrecemos \\xa0servicios esporádicos de limpieza, plancha, cocina o servicio de mesa y cocina y atención de niños y servicio en fiestas o\\neventos especiales.\\nO si su necesidad es una limpieza exhaustiva y profunda de su vivienda con brigada de limpieza tenemos un largo recorrido\\nprofesional que nos avala. Nuestro personal es eficiente, dinámico, amable, y educado. Exquisitamente selecto.\\n\\uf073\\nEquipos y turnos de cuidadoras de ancianos intersemanales y fin de semana\\nEn Doméstico Labora somos expertos para recomendarle el personal adecuado para el cuidado de mayores, ancianos o enfermos;\\nplantillas, horarios, y salarios. Organizamos el equipo completo cuando es necesario cubrir las 24 horas los 365 días del año\\nServicio de seguimiento y supervisión: si lo desea, puede además contratar nuestro servicio de seguimiento y supervisión:\\xa0 con visitas\\na domicilio, para mantener en buen equilibrio el entorno, la motivación y el nivel de entrega y trabajo. Planificación de menús y horarios\\ny actividades y métodos de organización.\\n10/20/24, 12:33 PM Empleadas de hogar – Domestico Labora | Empleadas hogar – Servicio Doméstico – Cuidado Ancianos\\nhttps://domesticolabora.com/servicios/empleadas-de-hogar/ 2/9'),\n",
       " Document(metadata={'source': 'domestico.pdf', 'page': 2}, page_content='Puedes realizar las entrevistas en nuestras instalaciones y conocer algunas o algunos candidatos,\\npreviamente seleccionados por Doméstico Labora mediante un exigente protocolo de \\x00ltro y\\ncomprobaciones propio. De esta forma resulta muy e\\x00ciente, discreto y protegido, y dispondrá de\\nuna profesional experta que le ayudará en la entrevista y el análisis de cada caso. Sin ningún\\ncompromiso! Más vale una imagen que mil palabras. Si lo pre\\x00ere, puede conocer a los o las\\ncandidatas seleccionadas en su domicilio, con información previa de la trayectoria de cada persona\\ny un análisis posterior de resultados, dudas y valoraciones con una profesional de Doméstico\\nLabora.\\nNos gusta el trabajo bien hecho y los hogares bien cuidados.\\nEmpleadas de hogar\\nNuestro apoyo, seguimiento y formación es continuo si así lo necesita nuestro cliente. Nuestro objetivo; éxito a la primera,\\nestabilidad a largo plazo, suavidad y agilidad en la implantación en el puesto y profesionalidad.\\nNos gusta el trabajo bien hecho y los hogares bien cuidados.\\nDoméstico Labora es una agencia autorizada para intermediación laboral, especializada en la selección de personal doméstico y cuidadoras. Nuestra Agencia de s\\nde ancianos y niños está situada en Sant Cugat del Vallés, Barcelona, desde hace más de 15 años. Atendemos toda la zona de Catalunya y resto de España y tene\\nAustria.\\nLa demanda de nuestro servicio de selección de empleadas de hogar y asistencia a ancianos se extiende principalmente por las zonas de Barcelona, Sant Cugat de\\nSant Quirze del Vallés, Bellaterra… Ofrecemos nuestro servicio de selección de personal para periodos estables y duraderos, para suplencias, vacaciones u otras em\\nFácil, sencillo y con la calidad que tu hogar merece\\nSi estás buscando una empleada de hogar ya sea externa o interna, o por horas, en Doméstico Labora podemos ayudarte. Te resultará todo fácil y suave. Ofre\\ntrabajada al cliente y valoramos juntos cada caso. Hacemos todo el trabajo, bien hecho, y el cliente solo tiene que dar su aprobación y decisión final. Doméstico Lab10/20/24, 12:33 PM Empleadas de hogar – Domestico Labora | Empleadas hogar – Servicio Doméstico – Cuidado Ancianos\\nhttps://domesticolabora.com/servicios/empleadas-de-hogar/ 3/9'),\n",
       " Document(metadata={'source': 'domestico.pdf', 'page': 3}, page_content='Nuestro apoyo, seguimiento y formación es continuo si así lo necesita nuestro cliente. Nuestro objetivo; éxito a la primera, estabilidad a largo plazo, suavida\\nprofesionalidad. La satisfacción de los clientes es nuestra mayor recompensa y nuestro éxito a la primera en el 97% de los casos. Nuestra prioridad; dejar tu casa, y\\nque necesitan, estabilidad y profesionalidad.\\nEl servicio doméstico; la limpieza, el orden, la ropa limpia y ordenada y compartir la mesa con cocina sencilla y rica son factores clave en el\\nhogar. Ayudan a crear un clima de paz y seguridad, hogares acogedores. Una empleada de hogar profesional, que comprenda su profesión de\\nempleada doméstica como una misión y con responsabilidad y conciencia de la labor social que está realizando es un pilar valioso en una\\nfamilia.\\nLa asistenta doméstica colabora en el crecimiento sano de los niños, al arraigo de los jóvenes al hogar y la creación de un ambiente relajado y\\nordenado. Son cuidadoras, niñeras, cocineras, limpiadoras, en muchos casos también enfermeras, lavanderas y planchadoras, organizadoras de\\nhogares, secretarias de dirección, acompañantes; todo ello debe realizarlo con la madurez afectiva y el cariño que requiere cualquier profesión\\nrelacionada con personas, familias, hogares.\\n10/20/24, 12:33 PM Empleadas de hogar – Domestico Labora | Empleadas hogar – Servicio Doméstico – Cuidado Ancianos\\nhttps://domesticolabora.com/servicios/empleadas-de-hogar/ 4/9'),\n",
       " Document(metadata={'source': 'domestico.pdf', 'page': 4}, page_content='El servicio doméstico requiere una formación integral que no se ha considerado hasta ahora y unos valores que deben ser inculcados y\\nasumidos; educación, higiene, puntualidad, laboriosidad, afabilidad, claridad y transparencia. La selección de servicio doméstico, del perfil más\\nadecuado para la empleada de hogar de una familia, requiere también ese respeto por la profesión. Mirar con responsabilidad el papel que va a\\nejercer la empleada doméstica en la familia; qué necesita el empleador y que perfil es el más apropiado. Estudiar con responsabilidad cada\\ncaso, y cada propuesta. Conocer a las personas, sus referencias, y una profunda experiencia en el trato con personas, con la profesión, con los\\nclientes, con las trabajadoras de hogar. Es necesario conocer y saber acerca de las tareas que va a desempeñar.\\nDoméstico Labora mantiene un trato continuado con las personas que aspiran a un puesto de empleada doméstica; a través de distintas\\nactividades, entrevistas personales y con el apoyo fundamental de nuestra escuela de formación. Nuestra escuela ofrece formación y es\\ntambién de gran ayuda para inculcar los valores que requiere la profesión y tratar en profundidad con las personas. El disponer de cocina y\\ncomedor propios nos permite compartir y tratar con las personas. Todo ello repercute en una mejor selección y en una mejor respuesta en sus\\ntrabajos de las candidatas que resulten seleccionadas.\\nProceso de selección\\nSeleccionamos personal: bien formado, amable y eficiente\\n10/20/24, 12:33 PM Empleadas de hogar – Domestico Labora | Empleadas hogar – Servicio Doméstico – Cuidado Ancianos\\nhttps://domesticolabora.com/servicios/empleadas-de-hogar/ 5/9'),\n",
       " Document(metadata={'source': 'domestico.pdf', 'page': 5}, page_content='Nuestra Escuela de Formación nos permite un continuo contacto humano con nuestras asistentas domésticas y una amplia cartera selecta de\\npersonal. Esto ayuda a un proceso de selección muy ágil y rápido. Acompañamos a nuestro cliente y asistenta en todo el proceso: primeras\\nentrevistas, puesta en marcha en el puesto y seguimiento. Nuestro apoyo, seguimiento y formación es continuo si así lo necesita nuestro\\ncliente. Nuestro objetivo; éxito a la primera, estabilidad a largo plazo, suavidad y agilidad en la implantación en el puesto, profesionalidad.\\nEntrevista personal, estudio de currículum, experiencia y formación. \\uf00c\\nPrueba práctica de conocimientos y aptitudes. \\uf00c\\nComprobación de referencias y resultados en trabajos anteriores. \\uf00c\\nPuesta en común y valoración en equipo de Doméstico Labora. \\uf00c\\nPuntuación y definición de campos de excelencia. \\uf00c\\nEntrada en cartera selectiva Doméstico Labora. \\uf00c\\nDOMÉSTICO LABORA\\n¿QUÉ NECESITAS?\\nCONTÁCTANOS\\n(HTTPS://DOMESTICOLABORA.COM/CONTACTO)\\n¿Qué nos diferencia?\\n\\uf068 NUESTRA EXPERIENCIA\\nEn Domestico Labora ofrecemos un servicio de formación continua de la empleadas de hogar. Más de 15 años dedicándonos a la selección y formación\\nde personal del entorno del hogar nos permite disponer de una bolsa de trabajo, una cartera de profesionales, siempre actualizada y lista para trabajar.\\nPersonas de referencias contrastadas, muchas formadas en nuestra escuela, y a las que conocemos personalmente, a ellas y a sus empleadores\\nanteriores.\\nCreamos profesión: Formamos. Conciencia de labor social.\\nSeleccionamos personal: bien formado, amable y eficiente.\\nEstamos cerca del cliente: escuchamos, asesoramos e informamos.\\nTrabajo bien hecho.10/20/24, 12:33 PM Empleadas de hogar – Domestico Labora | Empleadas hogar – Servicio Doméstico – Cuidado Ancianos\\nhttps://domesticolabora.com/servicios/empleadas-de-hogar/ 6/9'),\n",
       " Document(metadata={'source': 'domestico.pdf', 'page': 6}, page_content='\\uf067\\n\\uf067\\n\\uf067\\n\\uf067SELECCIÓN DE LOS EMPLEADOS Y ESCUELA DE FORMACIÓN\\nSEGUIMIENTO EN EL TIEMPO\\nNUESTRO RETO, EMPEÑO Y ÉXITO\\nASESORAMIENTO LEGAL\\n10/20/24, 12:33 PM Empleadas de hogar – Domestico Labora | Empleadas hogar – Servicio Doméstico – Cuidado Ancianos\\nhttps://domesticolabora.com/servicios/empleadas-de-hogar/ 7/9'),\n",
       " Document(metadata={'source': 'domestico.pdf', 'page': 7}, page_content='¿Qué opinan nuestros clientes?\\nLa confianza y la tranquilidad de saber quién cuida de tu hogar y tus familiares.\\n\\uf10e\\nVer más opi\\n(https://www.google.com/maps/place/Domestico+Labora+%7C+Servicio+Dom%C3%A9stico+%26+cuidado+ancianos/@\\nOficinas\\nSant Cugat del Vallès\\n(https://domesticolabora.com/servicios/empleadas-de-hogar/sant-cugat-del-valles/)\\nBarcelona\\n(https://domesticolabora.com/servicios/empleadas-de-hogar/barcelona/)\\nDoméstico Labora © 2021\\nLimpieza a domicilio Barcelona y Sant Cugat del Vallés. Empleadas de hogar, Cuidado de ancianos, Canguros, Cuidado de niños, Contrataciones,\\nServicios de Limpieza.\\nAviso Legal(http://domesticolabora.com/aviso-legal/)\\nPolítica de Cookies(http://domesticolabora.com/politica-de-cookies/)\\nPersonalizar Cookies(http://domesticolabora.com/personalizar-cookies/)\\nPolítica de Privacidad(http://domesticolabora.com/politica-de-privacidad/)\\nServicios\\nEmpleadas de hogar(http://domesticolabora.com/servicios/empleadas-de-hogar/)\\nCuidado de personas mayores(http://domesticolabora.com/servicios/cuidado-de-personas-mayores/)\\nCuidado de niños(http://domesticolabora.com/servicios/nineras/)\\n(htt\\nps://\\nMuy contenta con los servicios prestados. Necesitaba una chi\\ntareas de la casa y me ayudaron a elegir la mejor opción. Carme\\nme hizo un planning semanal para una mejor organizac\\nN. Viadel\\ue87e \\ue87d10/20/24, 12:33 PM Empleadas de hogar – Domestico Labora | Empleadas hogar – Servicio Doméstico – Cuidado Ancianos\\nhttps://domesticolabora.com/servicios/empleadas-de-hogar/ 8/9'),\n",
       " Document(metadata={'source': 'domestico.pdf', 'page': 8}, page_content='Limpieza y desinfección(http://domesticolabora.com/servicios/limpieza-y-desinfeccion/)\\nEscuela de formación(http://domesticolabora.com/escuela-de-formacion/)ww\\nw.fa\\nceb\\nook.\\ncom\\n/do\\nmes\\nticol\\nabo\\nra)\\uf09a\\nAgencia autorizada para intermediación laboral\\nWeb hecha por ADAUGE(https://adauge.com/)10/20/24, 12:33 PM Empleadas de hogar – Domestico Labora | Empleadas hogar – Servicio Doméstico – Cuidado Ancianos\\nhttps://domesticolabora.com/servicios/empleadas-de-hogar/ 9/9')]"
      ]
     },
     "execution_count": 42,
     "metadata": {},
     "output_type": "execute_result"
    }
   ],
   "source": [
    "from langchain_community.document_loaders import PyPDFLoader\n",
    "\n",
    "loader= PyPDFLoader(\"domestico.pdf\")\n",
    "pages =loader.load_and_split()\n",
    "pages\n"
   ]
  },
  {
   "cell_type": "code",
   "execution_count": 43,
   "metadata": {},
   "outputs": [
    {
     "data": {
      "text/plain": [
       "'\\nAnswer the question based on the context below. If you can\\'t \\nanswer the question, reply \"I don\\'t know\".\\n\\nContext: Here is some context\\n\\nQuestion: Here is a question\\n'"
      ]
     },
     "execution_count": 43,
     "metadata": {},
     "output_type": "execute_result"
    }
   ],
   "source": [
    "from langchain.prompts import PromptTemplate\n",
    "\n",
    "template = \"\"\"\n",
    "Answer the question based on the context below. If you can't \n",
    "answer the question, reply \"I don't know\".\n",
    "\n",
    "Context: {context}\n",
    "\n",
    "Question: {question}\n",
    "\"\"\"\n",
    "\n",
    "prompt = PromptTemplate.from_template(template)\n",
    "prompt.format(context=\"Here is some context\", question=\"Here is a question\")"
   ]
  },
  {
   "cell_type": "code",
   "execution_count": 44,
   "metadata": {},
   "outputs": [
    {
     "data": {
      "text/plain": [
       "\"I don't know.\""
      ]
     },
     "execution_count": 44,
     "metadata": {},
     "output_type": "execute_result"
    }
   ],
   "source": [
    "chain= prompt | model | parser\n",
    "chain.invoke({\"context\": \"My parents named me Santiago\", \"question\": \"What's your name'?\"})\n"
   ]
  },
  {
   "cell_type": "code",
   "execution_count": 45,
   "metadata": {},
   "outputs": [],
   "source": [
    "from langchain_community.vectorstores import DocArrayInMemorySearch\n",
    "\n",
    "vectorstore = DocArrayInMemorySearch.from_documents(\n",
    "    pages, embedding=embeddings)"
   ]
  },
  {
   "cell_type": "code",
   "execution_count": 46,
   "metadata": {},
   "outputs": [
    {
     "data": {
      "text/plain": [
       "[Document(metadata={'source': 'domestico.pdf', 'page': 2}, page_content='Puedes realizar las entrevistas en nuestras instalaciones y conocer algunas o algunos candidatos,\\npreviamente seleccionados por Doméstico Labora mediante un exigente protocolo de \\x00ltro y\\ncomprobaciones propio. De esta forma resulta muy e\\x00ciente, discreto y protegido, y dispondrá de\\nuna profesional experta que le ayudará en la entrevista y el análisis de cada caso. Sin ningún\\ncompromiso! Más vale una imagen que mil palabras. Si lo pre\\x00ere, puede conocer a los o las\\ncandidatas seleccionadas en su domicilio, con información previa de la trayectoria de cada persona\\ny un análisis posterior de resultados, dudas y valoraciones con una profesional de Doméstico\\nLabora.\\nNos gusta el trabajo bien hecho y los hogares bien cuidados.\\nEmpleadas de hogar\\nNuestro apoyo, seguimiento y formación es continuo si así lo necesita nuestro cliente. Nuestro objetivo; éxito a la primera,\\nestabilidad a largo plazo, suavidad y agilidad en la implantación en el puesto y profesionalidad.\\nNos gusta el trabajo bien hecho y los hogares bien cuidados.\\nDoméstico Labora es una agencia autorizada para intermediación laboral, especializada en la selección de personal doméstico y cuidadoras. Nuestra Agencia de s\\nde ancianos y niños está situada en Sant Cugat del Vallés, Barcelona, desde hace más de 15 años. Atendemos toda la zona de Catalunya y resto de España y tene\\nAustria.\\nLa demanda de nuestro servicio de selección de empleadas de hogar y asistencia a ancianos se extiende principalmente por las zonas de Barcelona, Sant Cugat de\\nSant Quirze del Vallés, Bellaterra… Ofrecemos nuestro servicio de selección de personal para periodos estables y duraderos, para suplencias, vacaciones u otras em\\nFácil, sencillo y con la calidad que tu hogar merece\\nSi estás buscando una empleada de hogar ya sea externa o interna, o por horas, en Doméstico Labora podemos ayudarte. Te resultará todo fácil y suave. Ofre\\ntrabajada al cliente y valoramos juntos cada caso. Hacemos todo el trabajo, bien hecho, y el cliente solo tiene que dar su aprobación y decisión final. Doméstico Lab10/20/24, 12:33 PM Empleadas de hogar – Domestico Labora | Empleadas hogar – Servicio Doméstico – Cuidado Ancianos\\nhttps://domesticolabora.com/servicios/empleadas-de-hogar/ 3/9'),\n",
       " Document(metadata={'source': 'domestico.pdf', 'page': 7}, page_content='¿Qué opinan nuestros clientes?\\nLa confianza y la tranquilidad de saber quién cuida de tu hogar y tus familiares.\\n\\uf10e\\nVer más opi\\n(https://www.google.com/maps/place/Domestico+Labora+%7C+Servicio+Dom%C3%A9stico+%26+cuidado+ancianos/@\\nOficinas\\nSant Cugat del Vallès\\n(https://domesticolabora.com/servicios/empleadas-de-hogar/sant-cugat-del-valles/)\\nBarcelona\\n(https://domesticolabora.com/servicios/empleadas-de-hogar/barcelona/)\\nDoméstico Labora © 2021\\nLimpieza a domicilio Barcelona y Sant Cugat del Vallés. Empleadas de hogar, Cuidado de ancianos, Canguros, Cuidado de niños, Contrataciones,\\nServicios de Limpieza.\\nAviso Legal(http://domesticolabora.com/aviso-legal/)\\nPolítica de Cookies(http://domesticolabora.com/politica-de-cookies/)\\nPersonalizar Cookies(http://domesticolabora.com/personalizar-cookies/)\\nPolítica de Privacidad(http://domesticolabora.com/politica-de-privacidad/)\\nServicios\\nEmpleadas de hogar(http://domesticolabora.com/servicios/empleadas-de-hogar/)\\nCuidado de personas mayores(http://domesticolabora.com/servicios/cuidado-de-personas-mayores/)\\nCuidado de niños(http://domesticolabora.com/servicios/nineras/)\\n(htt\\nps://\\nMuy contenta con los servicios prestados. Necesitaba una chi\\ntareas de la casa y me ayudaron a elegir la mejor opción. Carme\\nme hizo un planning semanal para una mejor organizac\\nN. Viadel\\ue87e \\ue87d10/20/24, 12:33 PM Empleadas de hogar – Domestico Labora | Empleadas hogar – Servicio Doméstico – Cuidado Ancianos\\nhttps://domesticolabora.com/servicios/empleadas-de-hogar/ 8/9'),\n",
       " Document(metadata={'source': 'domestico.pdf', 'page': 5}, page_content='Nuestra Escuela de Formación nos permite un continuo contacto humano con nuestras asistentas domésticas y una amplia cartera selecta de\\npersonal. Esto ayuda a un proceso de selección muy ágil y rápido. Acompañamos a nuestro cliente y asistenta en todo el proceso: primeras\\nentrevistas, puesta en marcha en el puesto y seguimiento. Nuestro apoyo, seguimiento y formación es continuo si así lo necesita nuestro\\ncliente. Nuestro objetivo; éxito a la primera, estabilidad a largo plazo, suavidad y agilidad en la implantación en el puesto, profesionalidad.\\nEntrevista personal, estudio de currículum, experiencia y formación. \\uf00c\\nPrueba práctica de conocimientos y aptitudes. \\uf00c\\nComprobación de referencias y resultados en trabajos anteriores. \\uf00c\\nPuesta en común y valoración en equipo de Doméstico Labora. \\uf00c\\nPuntuación y definición de campos de excelencia. \\uf00c\\nEntrada en cartera selectiva Doméstico Labora. \\uf00c\\nDOMÉSTICO LABORA\\n¿QUÉ NECESITAS?\\nCONTÁCTANOS\\n(HTTPS://DOMESTICOLABORA.COM/CONTACTO)\\n¿Qué nos diferencia?\\n\\uf068 NUESTRA EXPERIENCIA\\nEn Domestico Labora ofrecemos un servicio de formación continua de la empleadas de hogar. Más de 15 años dedicándonos a la selección y formación\\nde personal del entorno del hogar nos permite disponer de una bolsa de trabajo, una cartera de profesionales, siempre actualizada y lista para trabajar.\\nPersonas de referencias contrastadas, muchas formadas en nuestra escuela, y a las que conocemos personalmente, a ellas y a sus empleadores\\nanteriores.\\nCreamos profesión: Formamos. Conciencia de labor social.\\nSeleccionamos personal: bien formado, amable y eficiente.\\nEstamos cerca del cliente: escuchamos, asesoramos e informamos.\\nTrabajo bien hecho.10/20/24, 12:33 PM Empleadas de hogar – Domestico Labora | Empleadas hogar – Servicio Doméstico – Cuidado Ancianos\\nhttps://domesticolabora.com/servicios/empleadas-de-hogar/ 6/9'),\n",
       " Document(metadata={'source': 'domestico.pdf', 'page': 0}, page_content='(https://domesticolabora.com)\\n\\ue816\\n15 años sirviendo\\nEmpleadas de hogar\\nSeleccionamos personal: bien formado, amable y eficiente\\nLlámanos: 647 595 983(tel:+34647595983) \\uf879\\nEMPLEADAS DE HOGAR\\n\\uf236\\nEmpleadas de hogar internas\\nUno de los perfiles demandados por las familias es el de empleadas de hogar internas, es decir, aquellas empleadas que residen en el\\ndomicilio del cliente durante los periodos de realización del trabajo. Las empleadas de hogar internas conviven con la familia, y\\nrealizan las tareas de casa: limpieza de pisos o casas, plancha, cocina, cuidado de niños y personas mayores. En Domestico Labora,\\nsabemos lo que supone el riesgo de dar la confianza a una trabajadora interna y por ello, formamos profesionalmente y seguimos de\\nforma continua la evolución profesional y personal del servicio doméstico en su hogar.\\n\\uf64a\\nEmpleadas de hogar externas\\nCada día más, necesitamos ayuda para las tareas domésticas. Necesitamos cubrir aquello a lo que no llegamos. Eso, hoy es posible\\ngracias a las empleada de hogar externas.\\nEn ocasiones, la familia necesita un apoyo externo de algunas horas diarias o semanales. En Domestico Labora seleccionamos a la\\nempleada de hogar externa que necesitas con la garantía de ser profesionales con más de 15 años de experiencia en el sector.\\xa0\\nContamos con una amplia base de datos de empleadas del hogar que previamente han pasado un exhaustivo proceso de selección.10/20/24, 12:33 PM Empleadas de hogar – Domestico Labora | Empleadas hogar – Servicio Doméstico – Cuidado Ancianos\\nhttps://domesticolabora.com/servicios/empleadas-de-hogar/ 1/9')]"
      ]
     },
     "execution_count": 46,
     "metadata": {},
     "output_type": "execute_result"
    }
   ],
   "source": [
    "retriever = vectorstore.as_retriever()\n",
    "retriever.invoke(\"Qué hace Domestico Labora?\")"
   ]
  },
  {
   "cell_type": "code",
   "execution_count": 50,
   "metadata": {},
   "outputs": [
    {
     "name": "stdout",
     "output_type": "stream",
     "text": [
      "El proceso de selección en Doméstico Labora incluye los siguientes pasos:\n",
      "\n",
      "1. **Entrevista personal**: Se realiza una entrevista con el candidato.\n",
      "2. **Estudio de currículum**: Se evalúa el currículum vitae del candidato.\n",
      "3. **Experiencia y formación**: Se considera la experiencia previa y la formación del candidato.\n",
      "4. **Prueba práctica**: Se lleva a cabo una prueba práctica de conocimientos y aptitudes.\n",
      "5. **Comprobación de referencias**: Se verifican las referencias y resultados en trabajos anteriores.\n",
      "6. **Valoración en equipo**: Se realiza una puesta en común y valoración en equipo de los candidatos.\n",
      "7. **Puntuación y definición de campos de excelencia**: Se asigna una puntuación y se definen los campos en los que el candidato sobresale.\n",
      "8. **Entrada en cartera selectiva**: Los candidatos seleccionados ingresan en una cartera selectiva para futuras oportunidades.\n",
      "\n",
      "Este proceso está diseñado para asegurar la selección de personal bien formado, amable y eficiente. Además, Doméstico Labora ofrece apoyo y seguimiento continuo durante todo el proceso.\n"
     ]
    }
   ],
   "source": [
    "from operator import itemgetter\n",
    "chain= (\n",
    "    {\n",
    "        \"context\": itemgetter(\"question\") | retriever,\n",
    "        \"question\": itemgetter(\"question\")\n",
    "    }\n",
    "    |prompt\n",
    "    | model \n",
    "    | parser\n",
    ")\n",
    "print(chain.invoke({\"question\":\"Como es el proceso de selección?\"}))\n"
   ]
  }
 ],
 "metadata": {
  "kernelspec": {
   "display_name": "ironhack",
   "language": "python",
   "name": "python3"
  },
  "language_info": {
   "codemirror_mode": {
    "name": "ipython",
    "version": 3
   },
   "file_extension": ".py",
   "mimetype": "text/x-python",
   "name": "python",
   "nbconvert_exporter": "python",
   "pygments_lexer": "ipython3",
   "version": "3.12.2"
  }
 },
 "nbformat": 4,
 "nbformat_minor": 2
}
